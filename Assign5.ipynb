{
 "cells": [
  {
   "cell_type": "code",
   "execution_count": null,
   "id": "118d8c6b-aa26-49bc-91bb-937ecc5db4ea",
   "metadata": {},
   "outputs": [],
   "source": [
    "# Import all necessary libraries\n",
    "import numpy as np\n",
    "import pandas as pd\n",
    "import geopandas as gpd\n",
    "\n",
    "from matplotlib import pyplot as plt\n",
    "import seaborn as sns\n",
    "import holoviews as hv\n",
    "import hvplot.pandas\n",
    "\n",
    "from transformers import pipeline\n",
    "\n",
    "import cenpy\n",
    "import pygris\n",
    "\n",
    "import re\n",
    "import warnings\n",
    "\n",
    "# Show all columns\n",
    "pd.options.display.max_columns = 999"
   ]
  },
  {
   "cell_type": "markdown",
   "id": "83bd3043-65ad-43f0-a0ef-d7517f55b7e0",
   "metadata": {},
   "source": [
    "## 2. Fast food trends in Philadelphia"
   ]
  },
  {
   "cell_type": "markdown",
   "id": "c4c480a2-9446-40ea-bc8f-8505f164e472",
   "metadata": {},
   "source": [
    "### 2.1 Identify fast food restaurants"
   ]
  },
  {
   "cell_type": "code",
   "execution_count": null,
   "id": "69961ea2-cd4d-4428-9d86-f6c0b5e93d33",
   "metadata": {},
   "outputs": [],
   "source": [
    "# Create a new column to identify fast food restaurants\n",
    "Yelp_tract['is_fast_food'] = Yelp_tract['categories'].str.contains('Fast Food', na=False)"
   ]
  },
  {
   "cell_type": "markdown",
   "id": "3b3285f5-253c-4969-97f3-482ccdb59176",
   "metadata": {},
   "source": [
    "### 2.2 Calculate the median income for fast food and otherwise"
   ]
  },
  {
   "cell_type": "code",
   "execution_count": null,
   "id": "6ac9186d-e32e-44bf-a238-54d916fc0f92",
   "metadata": {},
   "outputs": [],
   "source": [
    "# Calculate the median income for fast food and non-fast food restaurants\n",
    "med_inc_fast_food = Yelp_tract.groupby('is_fast_food')['Med_HH_Inc'].median()\n",
    "\n",
    "print(med_inc_fast_food)"
   ]
  },
  {
   "cell_type": "markdown",
   "id": "5402b0ef-95ef-45d8-bab5-360c3e50769c",
   "metadata": {},
   "source": [
    "### 2.3 Load fast food review data"
   ]
  },
  {
   "cell_type": "code",
   "execution_count": null,
   "id": "e45cb8c6-0a5e-448b-9e18-fb1ad244c5d9",
   "metadata": {},
   "outputs": [],
   "source": [
    "# Load the fast food reviews\n",
    "fast_food_review = pd.read_json(\"data/reviews_philly_fast_food.json.gz\", \n",
    "                    orient='records', \n",
    "                    lines=True, \n",
    "                    compression='gzip')\n",
    "\n",
    "fast_food_review.head()"
   ]
  },
  {
   "cell_type": "markdown",
   "id": "4c384234-b73e-453d-9c7c-23f2f5ee63f5",
   "metadata": {},
   "source": [
    "### 2.4 Trim to the most popular fast food restaurants"
   ]
  },
  {
   "cell_type": "code",
   "execution_count": null,
   "id": "a9ae3951-2090-4629-a4e7-5bede63f89d9",
   "metadata": {},
   "outputs": [],
   "source": [
    "# List of popular fast food restaurants\n",
    "popular_fast_food = [\n",
    "    \"McDonald's\",\n",
    "    \"Wendy's\",\n",
    "    \"Subway\",\n",
    "    \"Popeyes Louisiana Kitchen\",\n",
    "    \"Taco Bell\",\n",
    "    \"KFC\",\n",
    "    \"Burger King\",\n",
    "]\n",
    "\n",
    "# Get the business ID and name for the popular fast food restaurants\n",
    "Yelp_name = Yelp[[\"business_id\", \"name\"]]\n",
    "\n",
    "fast_food_review = fast_food_review.merge(Yelp_name, on=\"business_id\", how=\"left\")\n",
    "\n",
    "fast_food_review.head()"
   ]
  },
  {
   "cell_type": "code",
   "execution_count": null,
   "id": "5ce7b595-ef22-48fb-a11b-17fc008dc9f7",
   "metadata": {},
   "outputs": [],
   "source": [
    "# Filter the fast food reviews to only include the popular fast food restaurants\n",
    "fast_food_review_trim = fast_food_review[fast_food_review['name'].isin(popular_fast_food)]\n",
    "fast_food_review_trim = fast_food_review_trim.reset_index(drop=True)\n",
    "\n",
    "fast_food_review_trim.head()"
   ]
  },
  {
   "cell_type": "markdown",
   "id": "b288dc33-ec1c-41ba-8234-fef60603a980",
   "metadata": {},
   "source": [
    "### 2.5 Run the emotions classifier on fast food reviews"
   ]
  },
  {
   "cell_type": "code",
   "execution_count": null,
   "id": "eaeef207-8c31-4330-b534-13a01179804e",
   "metadata": {},
   "outputs": [],
   "source": [
    "# Remove rows with missing review text\n",
    "fast_food_review_trim = fast_food_review_trim.dropna(subset=[\"text\"])\n",
    "fast_food_review_trim = fast_food_review_trim.loc[fast_food_review_trim[\"text\"] != \"\"]\n",
    "\n",
    "# Extract the review text to a list\n",
    "fast_food_review_list = fast_food_review_trim[\"text\"].str.strip().tolist()\n",
    "\n",
    "# Remove any non-string items\n",
    "text_pattern = re.compile(r'\\w+')\n",
    "fast_food_review_list = [item for item in fast_food_review_list if isinstance(item, str) and text_pattern.search(item)]\n",
    "\n",
    "fast_food_review_list[:10]"
   ]
  },
  {
   "cell_type": "code",
   "execution_count": null,
   "id": "de456756-eef8-47e8-b526-fbd63f99dfaf",
   "metadata": {},
   "outputs": [],
   "source": [
    "# Hide warnings\n",
    "warnings.filterwarnings(\"ignore\")\n",
    "\n",
    "# Load the emotion classification model\n",
    "model = \"bhadresh-savani/distilbert-base-uncased-emotion\"\n",
    "\n",
    "# Create a pipeline for emotion classification\n",
    "emotion_classifier = pipeline(\n",
    "    task=\"text-classification\",\n",
    "    model=model,\n",
    "    top_k=None,\n",
    "    tokenizer=model,\n",
    "    truncation=True,\n",
    ")\n",
    "\n",
    "# Calculate the top emotion score for fast food restaurant reviews\n",
    "fast_food_review_emotion = emotion_classifier(fast_food_review_list)\n",
    "\n",
    "fast_food_review_emotion[:4]"
   ]
  },
  {
   "cell_type": "code",
   "execution_count": null,
   "id": "6ed53a30-d25b-475b-9af1-e5b930954371",
   "metadata": {},
   "outputs": [],
   "source": [
    "# Transform the result from the classifier into a DataFrame\n",
    "fast_food_review_emotion_df = pd.DataFrame([{d[\"label\"]: d[\"score\"] for d in dd} for dd in fast_food_review_emotion]).assign(\n",
    "    text=fast_food_review_list\n",
    ")\n",
    "\n",
    "fast_food_review_emotion_df.head()"
   ]
  },
  {
   "cell_type": "markdown",
   "id": "b73bb4d2-eff0-4b6d-9bde-256b363b3fc2",
   "metadata": {},
   "source": [
    "### 2.6 Identify the predicted emotion for each text"
   ]
  },
  {
   "cell_type": "code",
   "execution_count": null,
   "id": "2b3d4403-2407-475f-b904-be480b3f4a21",
   "metadata": {},
   "outputs": [],
   "source": [
    "# Use idxmax to identify the predicted emotion for each review\n",
    "fast_food_review_emotion_df[\"prediction\"] = fast_food_review_emotion_df[\n",
    "    [\"anger\", \"fear\", \"sadness\", \"joy\", \"love\", \"surprise\"]\n",
    "].idxmax(axis=1)\n",
    "\n",
    "fast_food_review_emotion_df.head()"
   ]
  },
  {
   "cell_type": "markdown",
   "id": "e9bc8799-98cd-4691-bb9e-31edaf6fda17",
   "metadata": {},
   "source": [
    "### 2.7 Combine the ratings and sentiment data"
   ]
  },
  {
   "cell_type": "code",
   "execution_count": null,
   "id": "cb33688f-940e-46c5-af87-87a24b67e645",
   "metadata": {},
   "outputs": [],
   "source": [
    "# Combine the review text and emotion prediction\n",
    "fast_food_review_classified = pd.concat([fast_food_review_trim, fast_food_review_emotion_df], axis=1)\n",
    "\n",
    "fast_food_review_classified.head()"
   ]
  },
  {
   "cell_type": "markdown",
   "id": "1f4d153f-c61b-4285-8cb9-93abdbe75a5f",
   "metadata": {},
   "source": [
    "### 2.8 Plot sentiment vs. stars"
   ]
  },
  {
   "cell_type": "code",
   "execution_count": null,
   "id": "f43fea24-618d-4bdb-a62c-3da739ac7b94",
   "metadata": {},
   "outputs": [],
   "source": [
    "# Ensure 'stars' and 'prediction' are valid\n",
    "fast_food_review_classified = fast_food_review_classified.dropna(subset=['stars', 'prediction'])\n",
    "\n",
    "# Ensure 'stars' is numeric (for ordering) and 'prediction' is categorical\n",
    "fast_food_review_classified['stars'] = pd.to_numeric(fast_food_review_classified['stars'], errors='coerce')\n",
    "fast_food_review_classified['prediction'] = fast_food_review_classified['prediction'].astype('category')\n",
    "\n",
    "# Plot the stacked bar chart\n",
    "plt.figure(figsize=(10, 6))\n",
    "\n",
    "sns.histplot(\n",
    "    data=fast_food_review_classified,\n",
    "    x=\"stars\",\n",
    "    hue=\"prediction\",\n",
    "    multiple=\"stack\",\n",
    "    discrete=True,  # Treat stars as discrete categories\n",
    "    shrink=0.8      # Adjust bar width for better spacing\n",
    ")\n",
    "\n",
    "# Add titles and labels\n",
    "plt.title(\"Emotion Breakdown by Star Ratings\", fontsize=16)\n",
    "plt.xlabel(\"Stars\", fontsize=12)\n",
    "plt.ylabel(\"Count\", fontsize=12)\n",
    "\n",
    "plt.grid(axis=\"y\", linestyle=\"--\", alpha=0.7)"
   ]
  }
 ],
 "metadata": {
  "kernelspec": {
   "display_name": "Python 3 (ipykernel)",
   "language": "python",
   "name": "python3"
  },
  "language_info": {
   "codemirror_mode": {
    "name": "ipython",
    "version": 3
   },
   "file_extension": ".py",
   "mimetype": "text/x-python",
   "name": "python",
   "nbconvert_exporter": "python",
   "pygments_lexer": "ipython3",
   "version": "3.10.12"
  }
 },
 "nbformat": 4,
 "nbformat_minor": 5
}
